{
 "cells": [
  {
   "cell_type": "code",
   "execution_count": 26,
   "id": "f3e25aa3-8a27-4b95-8169-27092af0ca67",
   "metadata": {},
   "outputs": [
    {
     "name": "stdin",
     "output_type": "stream",
     "text": [
      "Enter your marathi Mark 98\n",
      "Enter your Hindi marks 78\n",
      "Enter your English mark 88\n"
     ]
    },
    {
     "name": "stdout",
     "output_type": "stream",
     "text": [
      "total mark 264\n",
      "percentage 88.0\n",
      "your Grade is B\n"
     ]
    }
   ],
   "source": [
    "# assigement 2\n",
    "\n",
    "#1.Grade\n",
    "A=int(input(\"Enter your marathi Mark\"))\n",
    "B=int(input(\"Enter your Hindi marks\"))\n",
    "C=int(input(\"Enter your English mark\"))\n",
    "\n",
    "total=A+B+C\n",
    "percentage=(total/300)*100\n",
    "print(\"total mark\",total)\n",
    "print(\"percentage\",percentage)\n",
    "if percentage>90:\n",
    "    print(\"your Grade is A\")\n",
    "elif percentage>80 and percentage<=90:\n",
    "    print(\"your Grade is B\")\n",
    "elif percentage>=60 and percentage<=80:\n",
    "    print(\"your Grade is C\")\n",
    "else:\n",
    "    print(\"your Grade is D\")"
   ]
  },
  {
   "cell_type": "code",
   "execution_count": 2,
   "id": "271481e4-7138-4b7d-8e83-58f12d4b017c",
   "metadata": {},
   "outputs": [
    {
     "name": "stdin",
     "output_type": "stream",
     "text": [
      "Enter your bike price 70000\n"
     ]
    },
    {
     "name": "stdout",
     "output_type": "stream",
     "text": [
      "You need to pay 10% Tax\n"
     ]
    }
   ],
   "source": [
    "#2.Tax\n",
    "\n",
    "price=int(input(\"Enter your bike price\"))\n",
    "\n",
    "if price>100000:\n",
    "    print(\"You need to Pay 15% Tax\")\n",
    "elif price>50000 and price<=100000:\n",
    "    print(\"You need to pay 10% Tax\")\n",
    "else:\n",
    "    print(\"You need to pay 5% Tax\")\n"
   ]
  },
  {
   "cell_type": "code",
   "execution_count": 6,
   "id": "1cdd9d33-b7b0-4fbe-be1a-7031ab96344b",
   "metadata": {},
   "outputs": [
    {
     "name": "stdout",
     "output_type": "stream",
     "text": [
      "We have to 3 best city Delhi,Agra,jaipur\n"
     ]
    },
    {
     "name": "stdin",
     "output_type": "stream",
     "text": [
      "Which city would you like to go delhi\n"
     ]
    },
    {
     "name": "stdout",
     "output_type": "stream",
     "text": [
      "visit red fort\n"
     ]
    }
   ],
   "source": [
    "#3.\n",
    "\n",
    "print(\"We have to 3 best city Delhi,Agra,jaipur\")\n",
    "city=str(input(\"Which city would you like to go\"))\n",
    "\n",
    "if city=='Delhi' or city=='delhi':\n",
    "    print(\"visit red fort\")\n",
    "elif city=='Agra' or city=='agra':\n",
    "    print(\"visit Taj Mahal\")\n",
    "elif city=='Jaipur' or city=='jaipur':\n",
    "    print(\" visit jal mahal\")\n",
    "else:\n",
    "    print(\"try again\")\n"
   ]
  },
  {
   "cell_type": "code",
   "execution_count": 21,
   "id": "0b559dec-18c4-4243-a2d2-ec8c8afb1020",
   "metadata": {},
   "outputs": [
    {
     "name": "stdin",
     "output_type": "stream",
     "text": [
      "enter your number = 9\n"
     ]
    }
   ],
   "source": [
    "#4.\n",
    "\n",
    "num=int(input(\"enter your number =\"))\n",
    "i=1\n",
    "while num>=10:\n",
    "    print(i**2)\n",
    "    i+=1\n",
    "        \n",
    "\n"
   ]
  },
  {
   "cell_type": "code",
   "execution_count": 27,
   "id": "e8ba1b40-ad33-442f-a65c-5d3526dd6945",
   "metadata": {},
   "outputs": [
    {
     "name": "stdin",
     "output_type": "stream",
     "text": [
      "Enter a number =  79\n"
     ]
    },
    {
     "name": "stdout",
     "output_type": "stream",
     "text": [
      "Number of Times= 2\n"
     ]
    }
   ],
   "source": [
    "num = int(input(\"Enter a number = \"))\n",
    "count= 0\n",
    "while num>=10:\n",
    "    num =num/3;\n",
    "    count +=1\n",
    "print('Number of Times=',count)"
   ]
  },
  {
   "cell_type": "code",
   "execution_count": 35,
   "id": "9d283718-bc59-407f-8ccc-98e131e8f1c6",
   "metadata": {},
   "outputs": [
    {
     "name": "stdout",
     "output_type": "stream",
     "text": [
      "Hello world\n",
      "Hello world\n",
      "Hello world\n",
      "Hello world\n"
     ]
    }
   ],
   "source": [
    "#5.\n",
    "\n",
    "#The while loop executes a set of statements as long as a condition is true.\n",
    "i = 1\n",
    "while i < 5:\n",
    "    print(\"Hello world\")\n",
    "    i += 1"
   ]
  },
  {
   "cell_type": "code",
   "execution_count": null,
   "id": "eeaac5e9-7557-4919-a192-3f584ba429c9",
   "metadata": {},
   "outputs": [],
   "source": [
    "#6."
   ]
  },
  {
   "cell_type": "code",
   "execution_count": null,
   "id": "dff398a0-ea89-4074-92ce-8606ba27ed6a",
   "metadata": {},
   "outputs": [],
   "source": [
    "#7.\n",
    "\n",
    "num=10\n",
    "while num>0:\n",
    "    print(num)\n",
    "    num-=1"
   ]
  },
  {
   "cell_type": "code",
   "execution_count": null,
   "id": "50d03413-3586-4854-a28f-0276541d17ec",
   "metadata": {},
   "outputs": [],
   "source": []
  },
  {
   "cell_type": "code",
   "execution_count": null,
   "id": "76cac012-c6ac-4367-acc0-c4612c9af223",
   "metadata": {},
   "outputs": [],
   "source": []
  },
  {
   "cell_type": "code",
   "execution_count": null,
   "id": "a102bc4c-934c-4e19-93d1-dafe8610b9ad",
   "metadata": {},
   "outputs": [],
   "source": []
  },
  {
   "cell_type": "code",
   "execution_count": null,
   "id": "b1af48df-407b-4200-b382-c44e3a2a3920",
   "metadata": {},
   "outputs": [],
   "source": []
  },
  {
   "cell_type": "code",
   "execution_count": null,
   "id": "2c86e6b4-9de8-4c48-80ee-7e7633754b16",
   "metadata": {},
   "outputs": [],
   "source": []
  }
 ],
 "metadata": {
  "kernelspec": {
   "display_name": "Python 3 (ipykernel)",
   "language": "python",
   "name": "python3"
  },
  "language_info": {
   "codemirror_mode": {
    "name": "ipython",
    "version": 3
   },
   "file_extension": ".py",
   "mimetype": "text/x-python",
   "name": "python",
   "nbconvert_exporter": "python",
   "pygments_lexer": "ipython3",
   "version": "3.10.8"
  }
 },
 "nbformat": 4,
 "nbformat_minor": 5
}
